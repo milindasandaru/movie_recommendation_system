{
 "cells": [
  {
   "cell_type": "markdown",
   "id": "ae0a19b8",
   "metadata": {},
   "source": [
    "# 02 - Content-Based Recommendation\n",
    "\n",
    "This notebook experiments with text-based similarity using TF-IDF over movie metadata (title, genres, tags).\n",
    "\n",
    "Sections:\n",
    "1. Imports & configuration\n",
    "2. Load + prepare data\n",
    "3. Build content recommender (class wrapper)\n",
    "4. Example queries\n",
    "5. Experiment ideas (n-grams, weighting)\n",
    "6. Observations\n"
   ]
  },
  {
   "cell_type": "code",
   "execution_count": null,
   "id": "6ccc4bd3",
   "metadata": {},
   "outputs": [],
   "source": [
    "# 1. Imports & configuration\n",
    "from pathlib import Path\n",
    "from src.content_recommender import ContentRecommender\n",
    "\n",
    "cr = ContentRecommender()\n",
    "cr.fit()\n",
    "print('Fitted:', cr.is_fitted())"
   ]
  }
 ],
 "metadata": {
  "language_info": {
   "name": "python"
  }
 },
 "nbformat": 4,
 "nbformat_minor": 5
}
