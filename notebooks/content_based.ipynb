{
 "cells": [
  {
   "cell_type": "markdown",
   "id": "ae0a19b8",
   "metadata": {},
   "source": [
    "# Content-Based Recommendation System\n",
    "This notebook implements content-based filtering for movie recommendations."
   ]
  }
 ],
 "metadata": {
  "language_info": {
   "name": "python"
  }
 },
 "nbformat": 4,
 "nbformat_minor": 5
}
