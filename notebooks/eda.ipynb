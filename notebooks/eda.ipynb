{
 "cells": [
  {
   "cell_type": "markdown",
   "id": "8ce742b7",
   "metadata": {},
   "source": [
    "# 01 - Exploratory Data Analysis (EDA)\n",
    "\n",
    "This notebook explores the MovieLens dataset (ratings + movies + optional tags).\n",
    "\n",
    "Sections:\n",
    "1. Imports & configuration\n",
    "2. Load data (graceful if files missing)\n",
    "3. Basic summary stats\n",
    "4. Ratings distribution\n",
    "5. Movie popularity (rating counts)\n",
    "6. Genre frequency\n",
    "7. Sparsity & density metrics\n",
    "8. (Optional) temporal patterns\n",
    "9. Findings summary\n",
    "\n",
    "> NOTE: Raw CSVs are not committed—place them in `data/` per `data/README.md`.\n"
   ]
  },
  {
   "cell_type": "code",
   "execution_count": null,
   "id": "bd08bdb9",
   "metadata": {},
   "outputs": [],
   "source": [
    "# 1. Imports & configuration\n",
    "import pandas as pd\n",
    "from pathlib import Path\n",
    "import matplotlib.pyplot as plt\n",
    "import numpy as np\n",
    "\n",
    "DATA_DIR = Path('data')\n",
    "\n",
    "# Repro seed\n",
    "SEED = 42\n",
    "np.random.seed(SEED)\n",
    "\n",
    "print('Environment ready.')"
   ]
  },
  {
   "cell_type": "code",
   "execution_count": null,
   "id": "2baa3f72",
   "metadata": {},
   "outputs": [],
   "source": [
    "# 2. Load data (graceful)\n",
    "ratings_path = DATA_DIR / 'ratings.csv'\n",
    "movies_path = DATA_DIR / 'movies.csv'\n",
    "\n",
    "ratings = pd.read_csv(ratings_path) if ratings_path.exists() else None\n",
    "movies = pd.read_csv(movies_path) if movies_path.exists() else None\n",
    "\n",
    "print('Ratings loaded:' if ratings is not None else 'Ratings missing')\n",
    "print('Movies loaded:' if movies is not None else 'Movies missing')"
   ]
  }
 ],
 "metadata": {
  "language_info": {
   "name": "python"
  }
 },
 "nbformat": 4,
 "nbformat_minor": 5
}
