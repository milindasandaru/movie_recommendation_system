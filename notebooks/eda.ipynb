{
 "cells": [
  {
   "cell_type": "markdown",
   "id": "8ce742b7",
   "metadata": {},
   "source": [
    "# Exploratory Data Analysis\n",
    "This notebook contains exploratory data analysis for the movie recommendation system."
   ]
  }
 ],
 "metadata": {
  "language_info": {
   "name": "python"
  }
 },
 "nbformat": 4,
 "nbformat_minor": 5
}
