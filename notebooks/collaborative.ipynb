{
 "cells": [
  {
   "cell_type": "markdown",
   "id": "394d844e",
   "metadata": {},
   "source": [
    "# 03 - Collaborative Filtering (Latent Factors)\n",
    "\n",
    "This notebook builds a latent-factor model using TruncatedSVD on the user-item rating matrix.\n",
    "\n",
    "Sections:\n",
    "1. Imports & configuration\n",
    "2. Load ratings\n",
    "3. Train collaborative model\n",
    "4. Generate recommendations\n",
    "5. Simple evaluation (precision@k illustration)\n",
    "6. Next steps / improvements\n"
   ]
  },
  {
   "cell_type": "code",
   "execution_count": null,
   "id": "3b0cded0",
   "metadata": {},
   "outputs": [],
   "source": [
    "# 1. Imports & configuration\n",
    "from src.collaborative_recommender import CollaborativeRecommender\n",
    "from pathlib import Path\n",
    "\n",
    "collab = CollaborativeRecommender()\n",
    "collab.fit()\n",
    "print('Fitted:', collab.is_fitted())"
   ]
  }
 ],
 "metadata": {
  "language_info": {
   "name": "python"
  }
 },
 "nbformat": 4,
 "nbformat_minor": 5
}
