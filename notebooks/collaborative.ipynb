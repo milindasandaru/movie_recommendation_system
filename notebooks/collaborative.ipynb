{
 "cells": [
  {
   "cell_type": "markdown",
   "id": "394d844e",
   "metadata": {},
   "source": [
    "# Collaborative Filtering Recommendation System\n",
    "This notebook implements collaborative filtering for movie recommendations."
   ]
  }
 ],
 "metadata": {
  "language_info": {
   "name": "python"
  }
 },
 "nbformat": 4,
 "nbformat_minor": 5
}
